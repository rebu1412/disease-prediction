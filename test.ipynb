{
 "cells": [
  {
   "cell_type": "code",
   "execution_count": 27,
   "id": "29739523-56b1-4793-92e0-11b1172af027",
   "metadata": {},
   "outputs": [
    {
     "name": "stdout",
     "output_type": "stream",
     "text": [
      "Kết quả dự đoán đã được lưu vào 'predictions.csv'.\n"
     ]
    }
   ],
   "source": [
    "import joblib\n",
    "import pandas as pd\n",
    "from sklearn.preprocessing import StandardScaler\n",
    "\n",
    "# Tải mô hình đã lưu\n",
    "loaded_rf_model = joblib.load('rf_model.pkl')\n",
    "\n",
    "# Đọc dữ liệu mới để dự đoán\n",
    "new_data = pd.read_csv('data/test_data.csv')\n",
    "\n",
    "# Tách các đặc trưng (X_new) từ dữ liệu mới\n",
    "X_new = new_data.drop(columns=['Disease'], errors='ignore')  # Loại bỏ cột nhãn nếu có\n",
    "\n",
    "# Chuẩn hóa dữ liệu mới\n",
    "scaler_new = StandardScaler()\n",
    "X_scaled_new = scaler_new.fit_transform(X_new)\n",
    "\n",
    "# Tạo một dictionary ánh xạ từ số mã hóa sang tên bệnh\n",
    "label_mapping = {\n",
    "    0: \"Healthy\",\n",
    "    1: \"Diabetes\",\n",
    "    2: \"Anemia\",\n",
    "    3: \"Thalasse\"\n",
    "}\n",
    "\n",
    "# Dự đoán trên dữ liệu mới\n",
    "y_test_pred_rf = loaded_rf_model.predict(X_scaled_new)\n",
    "\n",
    "# Chuyển đổi mã hóa thành tên bệnh\n",
    "y_test_pred_rf_named = [label_mapping[label] for label in y_test_pred_rf]\n",
    "\n",
    "# Tạo DataFrame từ kết quả dự đoán\n",
    "results_df = pd.DataFrame({\n",
    "    'predict': y_test_pred_rf_named\n",
    "})\n",
    "\n",
    "# Lưu kết quả vào file CSV\n",
    "results_df.to_csv('data/predictions.csv', index=False)\n",
    "\n",
    "# Hiển thị thông báo lưu file thành công\n",
    "print(\"Kết quả dự đoán đã được lưu vào 'predictions.csv'.\")\n"
   ]
  },
  {
   "cell_type": "code",
   "execution_count": null,
   "id": "55bca080-5d31-4099-9e00-0556af13b4f6",
   "metadata": {},
   "outputs": [],
   "source": []
  }
 ],
 "metadata": {
  "kernelspec": {
   "display_name": "Python 3 (ipykernel)",
   "language": "python",
   "name": "python3"
  },
  "language_info": {
   "codemirror_mode": {
    "name": "ipython",
    "version": 3
   },
   "file_extension": ".py",
   "mimetype": "text/x-python",
   "name": "python",
   "nbconvert_exporter": "python",
   "pygments_lexer": "ipython3",
   "version": "3.12.4"
  }
 },
 "nbformat": 4,
 "nbformat_minor": 5
}
